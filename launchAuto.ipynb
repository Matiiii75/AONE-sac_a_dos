{
 "cells": [
  {
   "cell_type": "code",
   "execution_count": null,
   "id": "2c09f759",
   "metadata": {},
   "outputs": [
    {
     "ename": "SyntaxError",
     "evalue": "incomplete input (1812604370.py, line 26)",
     "output_type": "error",
     "traceback": [
      "\u001b[1;36m  Cell \u001b[1;32mIn[2], line 26\u001b[1;36m\u001b[0m\n\u001b[1;33m    for instance in instances:\u001b[0m\n\u001b[1;37m                              ^\u001b[0m\n\u001b[1;31mSyntaxError\u001b[0m\u001b[1;31m:\u001b[0m incomplete input\n"
     ]
    }
   ],
   "source": [
    "import os \n",
    "import subprocess\n",
    "\n",
    "def launchAuto(instance, Algo): \n",
    "    \n",
    "    alpha = [0.1 * i for i in range(1, 20)] # construction d'alpha : 0.1, 0.2, ... , 1.9\n",
    "    M = [i for i in range(100, 1000, 100)] # construction de M : 100, 200, ... , 1000 \n",
    "\n",
    "    if Algo == \"gurobi\": \n",
    "        cmd = [\"./TP_AONE\", f\" ../DKP_Instances/{instance}\"]\n",
    "        subprocess.run(cmd, sdout=subprocess.DEVNULL)\n",
    "        print(\"treating instance : \", instance, \n",
    "                \"  |  with algo : \", Algo)\n",
    "            \n",
    "    if Algo == \"Dyna\": \n",
    "        for a in alpha: \n",
    "            for m in M: \n",
    "                cmd = [\"./main\", f\" ../DKP_Instances/{instance}\", a, m]\n",
    "                subprocess.run(cmd, sdout=subprocess.DEVNULL)\n",
    "                print(\"treating instance : \", instance, \n",
    "                        \"  |  with algo : \", Algo, \" alpha = \", a, \"  |  m  = \", m)\n",
    "\n",
    "\n",
    "def autoLaunchAll():\n",
    "    \n",
    "    Instances = os.listdir(\"DKP_Instances\")\n",
    "\n",
    "    for Algo in [\"gurobi\", \"Dyna\"]: # pr chaque algo\n",
    "        for instance in Instances:   # pr chaque instance\n",
    "\n",
    "            launchAuto(instance, Algo) # lancement de l'algo pour l'instance\n",
    "\n"
   ]
  },
  {
   "cell_type": "code",
   "execution_count": 5,
   "id": "6203bebe",
   "metadata": {},
   "outputs": [
    {
     "name": "stdout",
     "output_type": "stream",
     "text": [
      "[0.1, 0.2, 0.30000000000000004, 0.4, 0.5, 0.6000000000000001, 0.7000000000000001, 0.8, 0.9, 1.0, 1.1, 1.2000000000000002, 1.3, 1.4000000000000001, 1.5, 1.6, 1.7000000000000002, 1.8, 1.9000000000000001] \n",
      " [100, 200, 300, 400, 500, 600, 700, 800, 900]\n"
     ]
    }
   ],
   "source": [
    "alpha = [0.1 * i for i in range(1, 20)] # construction d'alpha : 0.1, 0.2, ... , 1.9\n",
    "M = [i for i in range(100, 1000, 100)]\n",
    "print(alpha, \"\\n\", M)"
   ]
  }
 ],
 "metadata": {
  "kernelspec": {
   "display_name": "Python (Conda-Base)",
   "language": "python",
   "name": "conda-base"
  },
  "language_info": {
   "codemirror_mode": {
    "name": "ipython",
    "version": 3
   },
   "file_extension": ".py",
   "mimetype": "text/x-python",
   "name": "python",
   "nbconvert_exporter": "python",
   "pygments_lexer": "ipython3",
   "version": "3.11.6"
  }
 },
 "nbformat": 4,
 "nbformat_minor": 5
}

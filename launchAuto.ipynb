{
 "cells": [
  {
   "cell_type": "code",
   "execution_count": 15,
   "id": "2c09f759",
   "metadata": {},
   "outputs": [
    {
     "name": "stdout",
     "output_type": "stream",
     "text": [
      "treating instance :  C10_BPPC_2_0_1_0.5.txt   |  with algo :  gurobi\n",
      "treating instance :  C10_BPPC_6_0_1_0.2.txt   |  with algo :  gurobi\n",
      "treating instance :  C10_BPPC_5_0_1_0.5.txt   |  with algo :  gurobi\n",
      "treating instance :  toy_instance.txt   |  with algo :  gurobi\n",
      "treating instance :  C10_BPPC_2_0_1_0.2.txt   |  with algo :  gurobi\n",
      "treating instance :  C10_BPPC_8_0_1_0.2.txt   |  with algo :  gurobi\n",
      "treating instance :  C10_BPPC_1_0_1_0.2.txt   |  with algo :  gurobi\n",
      "treating instance :  C10_BPPC_5_0_1_0.2.txt   |  with algo :  gurobi\n",
      "treating instance :  C10_BPPC_3_0_1_0.5.txt   |  with algo :  gurobi\n",
      "treating instance :  C10_BPPC_6_0_1_0.5.txt   |  with algo :  gurobi\n",
      "treating instance :  C10_BPPC_7_0_1_0.2.txt   |  with algo :  gurobi\n",
      "treating instance :  C10_BPPC_1_0_1_0.5.txt   |  with algo :  gurobi\n",
      "treating instance :  C10_BPPC_7_0_1_0.5.txt   |  with algo :  gurobi\n",
      "treating instance :  C10_BPPC_3_0_1_0.2.txt   |  with algo :  gurobi\n",
      "treating instance :  C10_BPPC_8_0_1_0.5.txt   |  with algo :  gurobi\n"
     ]
    }
   ],
   "source": [
    "import os \n",
    "import subprocess\n",
    "\n",
    "def launchAuto(instance, Algo): \n",
    "    \n",
    "    alpha = [str(0.1 * i) for i in range(8, 20)] # construction d'alpha : 0.1, 0.2, ... , 1.9\n",
    "    M = [str(i) for i in range(100, 600, 100)] # construction de M : 100, 200, ... , 1000 \n",
    "\n",
    "    if Algo == \"gurobi\": \n",
    "        cmd = [\"./build/TP_AONE\", f\"DKP_Instances/{instance}\"]\n",
    "        subprocess.run(cmd, stdout=subprocess.DEVNULL)\n",
    "        print(\"treating instance : \", instance, \n",
    "                \"  |  with algo : \", Algo)\n",
    "            \n",
    "    if Algo == \"Dyna\": \n",
    "        for a in alpha: \n",
    "            for m in M: \n",
    "                cmd = [\"./src/main\", f\"DKP_Instances/{instance}\", a, m]\n",
    "                print(\"treating instance : \", instance, \n",
    "                        \"  |  with algo : \", Algo, \" alpha = \", a, \"  |  m  = \", m)\n",
    "                subprocess.run(cmd, stdout=subprocess.DEVNULL)\n",
    "\n",
    "\n",
    "def autoLaunchAll():\n",
    "    \n",
    "    Instances = os.listdir(\"DKP_Instances\")\n",
    "\n",
    "    for Algo in [\"gurobi\"]: # pr chaque algo\n",
    "        for instance in Instances:   # pr chaque instance\n",
    "\n",
    "            launchAuto(instance, Algo) # lancement de l'algo pour l'instance\n",
    "\n",
    "autoLaunchAll()\n",
    "\n"
   ]
  },
  {
   "cell_type": "code",
   "execution_count": 8,
   "id": "6203bebe",
   "metadata": {},
   "outputs": [
    {
     "name": "stdout",
     "output_type": "stream",
     "text": [
      "['0.5', '0.6000000000000001', '0.7000000000000001', '0.8', '0.9', '1.0', '1.1', '1.2000000000000002', '1.3', '1.4000000000000001', '1.5', '1.6', '1.7000000000000002', '1.8', '1.9000000000000001'] \n",
      " ['100', '200', '300', '400', '500']\n"
     ]
    }
   ],
   "source": [
    "alpha = [str(0.1 * i) for i in range(5, 20)] # construction d'alpha : 0.1, 0.2, ... , 1.9\n",
    "M = [str(i) for i in range(100, 600, 100)]\n",
    "print(alpha, \"\\n\", M)"
   ]
  }
 ],
 "metadata": {
  "kernelspec": {
   "display_name": "Python 3",
   "language": "python",
   "name": "python3"
  },
  "language_info": {
   "codemirror_mode": {
    "name": "ipython",
    "version": 3
   },
   "file_extension": ".py",
   "mimetype": "text/x-python",
   "name": "python",
   "nbconvert_exporter": "python",
   "pygments_lexer": "ipython3",
   "version": "3.11.2"
  }
 },
 "nbformat": 4,
 "nbformat_minor": 5
}

{
 "cells": [
  {
   "cell_type": "code",
   "execution_count": null,
   "id": "2c09f759",
   "metadata": {},
   "outputs": [
    {
     "name": "stdout",
     "output_type": "stream",
     "text": [
      "3\n"
     ]
    }
   ],
   "source": [
    "import os \n",
    "import subprocess\n",
    "\n",
    "def launchAuto(instance, Algo): \n",
    "    \n",
    "    alpha = [i for i in range(0.1,2,0.1)] # construction d'alpha : 0.1, 0.2, ... , 1.9\n",
    "    M = [i for i in range(100, 1000, 100)] # construction de M : 100, 200, ... , 1000 \n",
    "\n",
    "    if Algo == \"gurobi\": \n",
    "        cmd = [\"./TP_AONE\", f\" ../DKP_Instances/{instance}\"]\n",
    "        subprocess.run(cmd, sdout=subprocess.DEVNULL)\n",
    "        print(\"treating instance : \", instance, \n",
    "                \"  |  with algo : \", Algo)\n",
    "            \n",
    "    if Algo == \"Dyna\": \n",
    "        cmd = [\"./main\", f\" ../DKP_Instances/{instance}\"]\n",
    "        subprocess.run(cmd, sdout=subprocess.DEVNULL)\n",
    "        print(\"treating instance : \", instance, \n",
    "                \"  |  with algo : \", Algo)\n",
    "\n",
    "\n",
    "# obtention du répertoire d'instances :     \n",
    "    instances = os.listdir(\"DKP_Instances\")\n",
    "\n",
    "    # éxécution de l'algorithme\n",
    "    for instance in instances:"
   ]
  },
  {
   "cell_type": "code",
   "execution_count": 6,
   "id": "6203bebe",
   "metadata": {},
   "outputs": [
    {
     "data": {
      "text/plain": [
       "['C10_BPPC_2_0_1_0.5.txt',\n",
       " 'C10_BPPC_6_0_1_0.2.txt',\n",
       " 'C10_BPPC_5_0_1_0.5.txt',\n",
       " 'toy_instance.txt',\n",
       " 'C10_BPPC_2_0_1_0.2.txt',\n",
       " 'C10_BPPC_8_0_1_0.2.txt',\n",
       " 'C10_BPPC_1_0_1_0.2.txt',\n",
       " 'C10_BPPC_5_0_1_0.2.txt',\n",
       " 'C10_BPPC_3_0_1_0.5.txt',\n",
       " 'C10_BPPC_6_0_1_0.5.txt',\n",
       " 'C10_BPPC_7_0_1_0.2.txt',\n",
       " 'C10_BPPC_1_0_1_0.5.txt',\n",
       " 'C10_BPPC_7_0_1_0.5.txt',\n",
       " 'C10_BPPC_3_0_1_0.2.txt',\n",
       " 'C10_BPPC_8_0_1_0.5.txt']"
      ]
     },
     "execution_count": 6,
     "metadata": {},
     "output_type": "execute_result"
    }
   ],
   "source": [
    "instances = os.listdir(\"DKP_Instances\")\n",
    "instances"
   ]
  }
 ],
 "metadata": {
  "kernelspec": {
   "display_name": "Python 3",
   "language": "python",
   "name": "python3"
  },
  "language_info": {
   "codemirror_mode": {
    "name": "ipython",
    "version": 3
   },
   "file_extension": ".py",
   "mimetype": "text/x-python",
   "name": "python",
   "nbconvert_exporter": "python",
   "pygments_lexer": "ipython3",
   "version": "3.11.2"
  }
 },
 "nbformat": 4,
 "nbformat_minor": 5
}

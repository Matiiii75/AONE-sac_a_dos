{
 "cells": [
  {
   "cell_type": "code",
   "execution_count": 1,
   "id": "ac975fb3",
   "metadata": {},
   "outputs": [
    {
     "name": "stdout",
     "output_type": "stream",
     "text": [
      "['C10_BPPC_2_0_1_0.5.txt', 'C10_BPPC_6_0_1_0.2.txt', 'C10_BPPC_5_0_1_0.5.txt', 'toy_instance.txt', 'C10_BPPC_2_0_1_0.2.txt', 'C10_BPPC_8_0_1_0.2.txt', 'C10_BPPC_1_0_1_0.2.txt', 'C10_BPPC_5_0_1_0.2.txt', 'C10_BPPC_3_0_1_0.5.txt', 'C10_BPPC_6_0_1_0.5.txt', 'C10_BPPC_7_0_1_0.2.txt', 'C10_BPPC_1_0_1_0.5.txt', 'C10_BPPC_7_0_1_0.5.txt', 'C10_BPPC_3_0_1_0.2.txt', 'C10_BPPC_8_0_1_0.5.txt'] \n",
      " ['C10_BPPC_2_0_1_0.5.txt', 'C10_BPPC_6_0_1_0.2.txt', 'C10_BPPC_5_0_1_0.5.txt', 'toy_instance.txt', 'C10_BPPC_2_0_1_0.2.txt', 'C10_BPPC_8_0_1_0.2.txt', 'C10_BPPC_1_0_1_0.2.txt', 'C10_BPPC_5_0_1_0.2.txt', 'C10_BPPC_3_0_1_0.5.txt', 'C10_BPPC_6_0_1_0.5.txt', 'C10_BPPC_7_0_1_0.2.txt', 'C10_BPPC_1_0_1_0.5.txt', 'C10_BPPC_7_0_1_0.5.txt', 'C10_BPPC_3_0_1_0.2.txt', 'C10_BPPC_8_0_1_0.5.txt']\n"
     ]
    }
   ],
   "source": [
    "import os \n",
    "\n",
    "Instances = os.listdir(\"DKP_Instances\")\n",
    "treated =[] \n",
    "with open(\"results.txt\", 'r') as f: \n",
    "    contenu = f.read()\n",
    "    for inst in Instances: \n",
    "        if inst in contenu: \n",
    "            treated.append(inst)\n",
    "\n",
    "print(treated, \"\\n\", Instances)\n"
   ]
  },
  {
   "cell_type": "code",
   "execution_count": null,
   "id": "fc373958",
   "metadata": {},
   "outputs": [],
   "source": [
    "with open(\"results.txt\", 'r') as f: \n",
    "    "
   ]
  }
 ],
 "metadata": {
  "kernelspec": {
   "display_name": "Python 3",
   "language": "python",
   "name": "python3"
  },
  "language_info": {
   "codemirror_mode": {
    "name": "ipython",
    "version": 3
   },
   "file_extension": ".py",
   "mimetype": "text/x-python",
   "name": "python",
   "nbconvert_exporter": "python",
   "pygments_lexer": "ipython3",
   "version": "3.11.2"
  }
 },
 "nbformat": 4,
 "nbformat_minor": 5
}
